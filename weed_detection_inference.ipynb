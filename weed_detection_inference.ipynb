{
  "nbformat": 4,
  "nbformat_minor": 0,
  "metadata": {
    "accelerator": "GPU",
    "colab": {
      "name": "weed_detection_inference.ipynb",
      "provenance": [],
      "collapsed_sections": []
    },
    "interpreter": {
      "hash": "255132067514b8971b1346d3b1d19a2dca8831435df2423030c6ab12019bfdcb"
    },
    "kernelspec": {
      "display_name": "Python 3.8.5 64-bit ('icevision': conda)",
      "name": "python3"
    },
    "language_info": {
      "codemirror_mode": {
        "name": "ipython",
        "version": 3
      },
      "file_extension": ".py",
      "mimetype": "text/x-python",
      "name": "python",
      "nbconvert_exporter": "python",
      "pygments_lexer": "ipython3",
      "version": "3.8.5"
    },
    "metadata": {
      "interpreter": {
        "hash": "7ce67d5d6720b587639daecff2fd8ea5482dfc1f4d2c40a21ebaeb984105fce4"
      }
    },
    "toc": {
      "base_numbering": 1,
      "nav_menu": {},
      "number_sections": true,
      "sideBar": false,
      "skip_h1_title": false,
      "title_cell": "Table of Contents",
      "title_sidebar": "Contents",
      "toc_cell": true,
      "toc_position": {
        "height": "608px",
        "left": "1489px",
        "top": "90px",
        "width": "398.875px"
      },
      "toc_section_display": false,
      "toc_window_display": true
    },
    "widgets": {
      "application/vnd.jupyter.widget-state+json": {
        "7868dc8f048940bf94ce080e2c504787": {
          "model_module": "@jupyter-widgets/controls",
          "model_name": "HBoxModel",
          "model_module_version": "1.5.0",
          "state": {
            "_view_name": "HBoxView",
            "_dom_classes": [],
            "_model_name": "HBoxModel",
            "_view_module": "@jupyter-widgets/controls",
            "_model_module_version": "1.5.0",
            "_view_count": null,
            "_view_module_version": "1.5.0",
            "box_style": "",
            "layout": "IPY_MODEL_70173274d9d24a178610d73d87cc9e01",
            "_model_module": "@jupyter-widgets/controls",
            "children": [
              "IPY_MODEL_f6cb1eb16d1848ccabd2fd155167614f",
              "IPY_MODEL_a7c6c0ca12124386ba17ecf69996fafd",
              "IPY_MODEL_cbab1e052ebf47338b564614d5db0826"
            ]
          }
        },
        "70173274d9d24a178610d73d87cc9e01": {
          "model_module": "@jupyter-widgets/base",
          "model_name": "LayoutModel",
          "model_module_version": "1.2.0",
          "state": {
            "_view_name": "LayoutView",
            "grid_template_rows": null,
            "right": null,
            "justify_content": null,
            "_view_module": "@jupyter-widgets/base",
            "overflow": null,
            "_model_module_version": "1.2.0",
            "_view_count": null,
            "flex_flow": null,
            "width": null,
            "min_width": null,
            "border": null,
            "align_items": null,
            "bottom": null,
            "_model_module": "@jupyter-widgets/base",
            "top": null,
            "grid_column": null,
            "overflow_y": null,
            "overflow_x": null,
            "grid_auto_flow": null,
            "grid_area": null,
            "grid_template_columns": null,
            "flex": null,
            "_model_name": "LayoutModel",
            "justify_items": null,
            "grid_row": null,
            "max_height": null,
            "align_content": null,
            "visibility": null,
            "align_self": null,
            "height": null,
            "min_height": null,
            "padding": null,
            "grid_auto_rows": null,
            "grid_gap": null,
            "max_width": null,
            "order": null,
            "_view_module_version": "1.2.0",
            "grid_template_areas": null,
            "object_position": null,
            "object_fit": null,
            "grid_auto_columns": null,
            "margin": null,
            "display": null,
            "left": null
          }
        },
        "f6cb1eb16d1848ccabd2fd155167614f": {
          "model_module": "@jupyter-widgets/controls",
          "model_name": "HTMLModel",
          "model_module_version": "1.5.0",
          "state": {
            "_view_name": "HTMLView",
            "style": "IPY_MODEL_c727f862e32b45d8bb1b88d78226f764",
            "_dom_classes": [],
            "description": "",
            "_model_name": "HTMLModel",
            "placeholder": "​",
            "_view_module": "@jupyter-widgets/controls",
            "_model_module_version": "1.5.0",
            "value": "100%",
            "_view_count": null,
            "_view_module_version": "1.5.0",
            "description_tooltip": null,
            "_model_module": "@jupyter-widgets/controls",
            "layout": "IPY_MODEL_7317666724804d9aa4e811984656befb"
          }
        },
        "a7c6c0ca12124386ba17ecf69996fafd": {
          "model_module": "@jupyter-widgets/controls",
          "model_name": "FloatProgressModel",
          "model_module_version": "1.5.0",
          "state": {
            "_view_name": "ProgressView",
            "style": "IPY_MODEL_fb9c2624684c4c138fbe41edd51cc237",
            "_dom_classes": [],
            "description": "",
            "_model_name": "FloatProgressModel",
            "bar_style": "success",
            "max": 28279751,
            "_view_module": "@jupyter-widgets/controls",
            "_model_module_version": "1.5.0",
            "value": 28279751,
            "_view_count": null,
            "_view_module_version": "1.5.0",
            "orientation": "horizontal",
            "min": 0,
            "description_tooltip": null,
            "_model_module": "@jupyter-widgets/controls",
            "layout": "IPY_MODEL_694ca1f02a03419da2760d03658ae75a"
          }
        },
        "cbab1e052ebf47338b564614d5db0826": {
          "model_module": "@jupyter-widgets/controls",
          "model_name": "HTMLModel",
          "model_module_version": "1.5.0",
          "state": {
            "_view_name": "HTMLView",
            "style": "IPY_MODEL_e8925320aa7041ea9eaea41656eca19d",
            "_dom_classes": [],
            "description": "",
            "_model_name": "HTMLModel",
            "placeholder": "​",
            "_view_module": "@jupyter-widgets/controls",
            "_model_module_version": "1.5.0",
            "value": " 27.0M/27.0M [00:01&lt;00:00, 21.6MB/s]",
            "_view_count": null,
            "_view_module_version": "1.5.0",
            "description_tooltip": null,
            "_model_module": "@jupyter-widgets/controls",
            "layout": "IPY_MODEL_ace9166e43694b8399b5ee970cb4ee3e"
          }
        },
        "c727f862e32b45d8bb1b88d78226f764": {
          "model_module": "@jupyter-widgets/controls",
          "model_name": "DescriptionStyleModel",
          "model_module_version": "1.5.0",
          "state": {
            "_view_name": "StyleView",
            "_model_name": "DescriptionStyleModel",
            "description_width": "",
            "_view_module": "@jupyter-widgets/base",
            "_model_module_version": "1.5.0",
            "_view_count": null,
            "_view_module_version": "1.2.0",
            "_model_module": "@jupyter-widgets/controls"
          }
        },
        "7317666724804d9aa4e811984656befb": {
          "model_module": "@jupyter-widgets/base",
          "model_name": "LayoutModel",
          "model_module_version": "1.2.0",
          "state": {
            "_view_name": "LayoutView",
            "grid_template_rows": null,
            "right": null,
            "justify_content": null,
            "_view_module": "@jupyter-widgets/base",
            "overflow": null,
            "_model_module_version": "1.2.0",
            "_view_count": null,
            "flex_flow": null,
            "width": null,
            "min_width": null,
            "border": null,
            "align_items": null,
            "bottom": null,
            "_model_module": "@jupyter-widgets/base",
            "top": null,
            "grid_column": null,
            "overflow_y": null,
            "overflow_x": null,
            "grid_auto_flow": null,
            "grid_area": null,
            "grid_template_columns": null,
            "flex": null,
            "_model_name": "LayoutModel",
            "justify_items": null,
            "grid_row": null,
            "max_height": null,
            "align_content": null,
            "visibility": null,
            "align_self": null,
            "height": null,
            "min_height": null,
            "padding": null,
            "grid_auto_rows": null,
            "grid_gap": null,
            "max_width": null,
            "order": null,
            "_view_module_version": "1.2.0",
            "grid_template_areas": null,
            "object_position": null,
            "object_fit": null,
            "grid_auto_columns": null,
            "margin": null,
            "display": null,
            "left": null
          }
        },
        "fb9c2624684c4c138fbe41edd51cc237": {
          "model_module": "@jupyter-widgets/controls",
          "model_name": "ProgressStyleModel",
          "model_module_version": "1.5.0",
          "state": {
            "_view_name": "StyleView",
            "_model_name": "ProgressStyleModel",
            "description_width": "",
            "_view_module": "@jupyter-widgets/base",
            "_model_module_version": "1.5.0",
            "_view_count": null,
            "_view_module_version": "1.2.0",
            "bar_color": null,
            "_model_module": "@jupyter-widgets/controls"
          }
        },
        "694ca1f02a03419da2760d03658ae75a": {
          "model_module": "@jupyter-widgets/base",
          "model_name": "LayoutModel",
          "model_module_version": "1.2.0",
          "state": {
            "_view_name": "LayoutView",
            "grid_template_rows": null,
            "right": null,
            "justify_content": null,
            "_view_module": "@jupyter-widgets/base",
            "overflow": null,
            "_model_module_version": "1.2.0",
            "_view_count": null,
            "flex_flow": null,
            "width": null,
            "min_width": null,
            "border": null,
            "align_items": null,
            "bottom": null,
            "_model_module": "@jupyter-widgets/base",
            "top": null,
            "grid_column": null,
            "overflow_y": null,
            "overflow_x": null,
            "grid_auto_flow": null,
            "grid_area": null,
            "grid_template_columns": null,
            "flex": null,
            "_model_name": "LayoutModel",
            "justify_items": null,
            "grid_row": null,
            "max_height": null,
            "align_content": null,
            "visibility": null,
            "align_self": null,
            "height": null,
            "min_height": null,
            "padding": null,
            "grid_auto_rows": null,
            "grid_gap": null,
            "max_width": null,
            "order": null,
            "_view_module_version": "1.2.0",
            "grid_template_areas": null,
            "object_position": null,
            "object_fit": null,
            "grid_auto_columns": null,
            "margin": null,
            "display": null,
            "left": null
          }
        },
        "e8925320aa7041ea9eaea41656eca19d": {
          "model_module": "@jupyter-widgets/controls",
          "model_name": "DescriptionStyleModel",
          "model_module_version": "1.5.0",
          "state": {
            "_view_name": "StyleView",
            "_model_name": "DescriptionStyleModel",
            "description_width": "",
            "_view_module": "@jupyter-widgets/base",
            "_model_module_version": "1.5.0",
            "_view_count": null,
            "_view_module_version": "1.2.0",
            "_model_module": "@jupyter-widgets/controls"
          }
        },
        "ace9166e43694b8399b5ee970cb4ee3e": {
          "model_module": "@jupyter-widgets/base",
          "model_name": "LayoutModel",
          "model_module_version": "1.2.0",
          "state": {
            "_view_name": "LayoutView",
            "grid_template_rows": null,
            "right": null,
            "justify_content": null,
            "_view_module": "@jupyter-widgets/base",
            "overflow": null,
            "_model_module_version": "1.2.0",
            "_view_count": null,
            "flex_flow": null,
            "width": null,
            "min_width": null,
            "border": null,
            "align_items": null,
            "bottom": null,
            "_model_module": "@jupyter-widgets/base",
            "top": null,
            "grid_column": null,
            "overflow_y": null,
            "overflow_x": null,
            "grid_auto_flow": null,
            "grid_area": null,
            "grid_template_columns": null,
            "flex": null,
            "_model_name": "LayoutModel",
            "justify_items": null,
            "grid_row": null,
            "max_height": null,
            "align_content": null,
            "visibility": null,
            "align_self": null,
            "height": null,
            "min_height": null,
            "padding": null,
            "grid_auto_rows": null,
            "grid_gap": null,
            "max_width": null,
            "order": null,
            "_view_module_version": "1.2.0",
            "grid_template_areas": null,
            "object_position": null,
            "object_fit": null,
            "grid_auto_columns": null,
            "margin": null,
            "display": null,
            "left": null
          }
        },
        "b7f76dfd8c394cc8a91ac3c6f37fb130": {
          "model_module": "@jupyter-widgets/controls",
          "model_name": "HBoxModel",
          "model_module_version": "1.5.0",
          "state": {
            "_view_name": "HBoxView",
            "_dom_classes": [],
            "_model_name": "HBoxModel",
            "_view_module": "@jupyter-widgets/controls",
            "_model_module_version": "1.5.0",
            "_view_count": null,
            "_view_module_version": "1.5.0",
            "box_style": "",
            "layout": "IPY_MODEL_4fbff34a2d524b888820e244a66c6318",
            "_model_module": "@jupyter-widgets/controls",
            "children": [
              "IPY_MODEL_78c7fe7567b44ab99a90362ba922b621",
              "IPY_MODEL_4d006578447e4ebfb031fbc0685be016",
              "IPY_MODEL_1a0e3f2ed56b418da1d184c517279101"
            ]
          }
        },
        "4fbff34a2d524b888820e244a66c6318": {
          "model_module": "@jupyter-widgets/base",
          "model_name": "LayoutModel",
          "model_module_version": "1.2.0",
          "state": {
            "_view_name": "LayoutView",
            "grid_template_rows": null,
            "right": null,
            "justify_content": null,
            "_view_module": "@jupyter-widgets/base",
            "overflow": null,
            "_model_module_version": "1.2.0",
            "_view_count": null,
            "flex_flow": null,
            "width": null,
            "min_width": null,
            "border": null,
            "align_items": null,
            "bottom": null,
            "_model_module": "@jupyter-widgets/base",
            "top": null,
            "grid_column": null,
            "overflow_y": null,
            "overflow_x": null,
            "grid_auto_flow": null,
            "grid_area": null,
            "grid_template_columns": null,
            "flex": null,
            "_model_name": "LayoutModel",
            "justify_items": null,
            "grid_row": null,
            "max_height": null,
            "align_content": null,
            "visibility": null,
            "align_self": null,
            "height": null,
            "min_height": null,
            "padding": null,
            "grid_auto_rows": null,
            "grid_gap": null,
            "max_width": null,
            "order": null,
            "_view_module_version": "1.2.0",
            "grid_template_areas": null,
            "object_position": null,
            "object_fit": null,
            "grid_auto_columns": null,
            "margin": null,
            "display": null,
            "left": null
          }
        },
        "78c7fe7567b44ab99a90362ba922b621": {
          "model_module": "@jupyter-widgets/controls",
          "model_name": "HTMLModel",
          "model_module_version": "1.5.0",
          "state": {
            "_view_name": "HTMLView",
            "style": "IPY_MODEL_1b03b0974fc34528945d20f79ba7bfe9",
            "_dom_classes": [],
            "description": "",
            "_model_name": "HTMLModel",
            "placeholder": "​",
            "_view_module": "@jupyter-widgets/controls",
            "_model_module_version": "1.5.0",
            "value": "100%",
            "_view_count": null,
            "_view_module_version": "1.5.0",
            "description_tooltip": null,
            "_model_module": "@jupyter-widgets/controls",
            "layout": "IPY_MODEL_ee4dfdf3c75a4967ad8044c0d066af08"
          }
        },
        "4d006578447e4ebfb031fbc0685be016": {
          "model_module": "@jupyter-widgets/controls",
          "model_name": "FloatProgressModel",
          "model_module_version": "1.5.0",
          "state": {
            "_view_name": "ProgressView",
            "style": "IPY_MODEL_334407efbb1c4e46a068d0256effbef9",
            "_dom_classes": [],
            "description": "",
            "_model_name": "FloatProgressModel",
            "bar_style": "success",
            "max": 4,
            "_view_module": "@jupyter-widgets/controls",
            "_model_module_version": "1.5.0",
            "value": 4,
            "_view_count": null,
            "_view_module_version": "1.5.0",
            "orientation": "horizontal",
            "min": 0,
            "description_tooltip": null,
            "_model_module": "@jupyter-widgets/controls",
            "layout": "IPY_MODEL_0be9852ad28a4fd6890fd9b32718f0cc"
          }
        },
        "1a0e3f2ed56b418da1d184c517279101": {
          "model_module": "@jupyter-widgets/controls",
          "model_name": "HTMLModel",
          "model_module_version": "1.5.0",
          "state": {
            "_view_name": "HTMLView",
            "style": "IPY_MODEL_9ce88793dd35406787861c43a4b87215",
            "_dom_classes": [],
            "description": "",
            "_model_name": "HTMLModel",
            "placeholder": "​",
            "_view_module": "@jupyter-widgets/controls",
            "_model_module_version": "1.5.0",
            "value": " 4/4 [00:01&lt;00:00,  3.04it/s]",
            "_view_count": null,
            "_view_module_version": "1.5.0",
            "description_tooltip": null,
            "_model_module": "@jupyter-widgets/controls",
            "layout": "IPY_MODEL_3162b05efe7b483da9dea4672aca1ed3"
          }
        },
        "1b03b0974fc34528945d20f79ba7bfe9": {
          "model_module": "@jupyter-widgets/controls",
          "model_name": "DescriptionStyleModel",
          "model_module_version": "1.5.0",
          "state": {
            "_view_name": "StyleView",
            "_model_name": "DescriptionStyleModel",
            "description_width": "",
            "_view_module": "@jupyter-widgets/base",
            "_model_module_version": "1.5.0",
            "_view_count": null,
            "_view_module_version": "1.2.0",
            "_model_module": "@jupyter-widgets/controls"
          }
        },
        "ee4dfdf3c75a4967ad8044c0d066af08": {
          "model_module": "@jupyter-widgets/base",
          "model_name": "LayoutModel",
          "model_module_version": "1.2.0",
          "state": {
            "_view_name": "LayoutView",
            "grid_template_rows": null,
            "right": null,
            "justify_content": null,
            "_view_module": "@jupyter-widgets/base",
            "overflow": null,
            "_model_module_version": "1.2.0",
            "_view_count": null,
            "flex_flow": null,
            "width": null,
            "min_width": null,
            "border": null,
            "align_items": null,
            "bottom": null,
            "_model_module": "@jupyter-widgets/base",
            "top": null,
            "grid_column": null,
            "overflow_y": null,
            "overflow_x": null,
            "grid_auto_flow": null,
            "grid_area": null,
            "grid_template_columns": null,
            "flex": null,
            "_model_name": "LayoutModel",
            "justify_items": null,
            "grid_row": null,
            "max_height": null,
            "align_content": null,
            "visibility": null,
            "align_self": null,
            "height": null,
            "min_height": null,
            "padding": null,
            "grid_auto_rows": null,
            "grid_gap": null,
            "max_width": null,
            "order": null,
            "_view_module_version": "1.2.0",
            "grid_template_areas": null,
            "object_position": null,
            "object_fit": null,
            "grid_auto_columns": null,
            "margin": null,
            "display": null,
            "left": null
          }
        },
        "334407efbb1c4e46a068d0256effbef9": {
          "model_module": "@jupyter-widgets/controls",
          "model_name": "ProgressStyleModel",
          "model_module_version": "1.5.0",
          "state": {
            "_view_name": "StyleView",
            "_model_name": "ProgressStyleModel",
            "description_width": "",
            "_view_module": "@jupyter-widgets/base",
            "_model_module_version": "1.5.0",
            "_view_count": null,
            "_view_module_version": "1.2.0",
            "bar_color": null,
            "_model_module": "@jupyter-widgets/controls"
          }
        },
        "0be9852ad28a4fd6890fd9b32718f0cc": {
          "model_module": "@jupyter-widgets/base",
          "model_name": "LayoutModel",
          "model_module_version": "1.2.0",
          "state": {
            "_view_name": "LayoutView",
            "grid_template_rows": null,
            "right": null,
            "justify_content": null,
            "_view_module": "@jupyter-widgets/base",
            "overflow": null,
            "_model_module_version": "1.2.0",
            "_view_count": null,
            "flex_flow": null,
            "width": null,
            "min_width": null,
            "border": null,
            "align_items": null,
            "bottom": null,
            "_model_module": "@jupyter-widgets/base",
            "top": null,
            "grid_column": null,
            "overflow_y": null,
            "overflow_x": null,
            "grid_auto_flow": null,
            "grid_area": null,
            "grid_template_columns": null,
            "flex": null,
            "_model_name": "LayoutModel",
            "justify_items": null,
            "grid_row": null,
            "max_height": null,
            "align_content": null,
            "visibility": null,
            "align_self": null,
            "height": null,
            "min_height": null,
            "padding": null,
            "grid_auto_rows": null,
            "grid_gap": null,
            "max_width": null,
            "order": null,
            "_view_module_version": "1.2.0",
            "grid_template_areas": null,
            "object_position": null,
            "object_fit": null,
            "grid_auto_columns": null,
            "margin": null,
            "display": null,
            "left": null
          }
        },
        "9ce88793dd35406787861c43a4b87215": {
          "model_module": "@jupyter-widgets/controls",
          "model_name": "DescriptionStyleModel",
          "model_module_version": "1.5.0",
          "state": {
            "_view_name": "StyleView",
            "_model_name": "DescriptionStyleModel",
            "description_width": "",
            "_view_module": "@jupyter-widgets/base",
            "_model_module_version": "1.5.0",
            "_view_count": null,
            "_view_module_version": "1.2.0",
            "_model_module": "@jupyter-widgets/controls"
          }
        },
        "3162b05efe7b483da9dea4672aca1ed3": {
          "model_module": "@jupyter-widgets/base",
          "model_name": "LayoutModel",
          "model_module_version": "1.2.0",
          "state": {
            "_view_name": "LayoutView",
            "grid_template_rows": null,
            "right": null,
            "justify_content": null,
            "_view_module": "@jupyter-widgets/base",
            "overflow": null,
            "_model_module_version": "1.2.0",
            "_view_count": null,
            "flex_flow": null,
            "width": null,
            "min_width": null,
            "border": null,
            "align_items": null,
            "bottom": null,
            "_model_module": "@jupyter-widgets/base",
            "top": null,
            "grid_column": null,
            "overflow_y": null,
            "overflow_x": null,
            "grid_auto_flow": null,
            "grid_area": null,
            "grid_template_columns": null,
            "flex": null,
            "_model_name": "LayoutModel",
            "justify_items": null,
            "grid_row": null,
            "max_height": null,
            "align_content": null,
            "visibility": null,
            "align_self": null,
            "height": null,
            "min_height": null,
            "padding": null,
            "grid_auto_rows": null,
            "grid_gap": null,
            "max_width": null,
            "order": null,
            "_view_module_version": "1.2.0",
            "grid_template_areas": null,
            "object_position": null,
            "object_fit": null,
            "grid_auto_columns": null,
            "margin": null,
            "display": null,
            "left": null
          }
        }
      }
    }
  },
  "cells": [
    {
      "cell_type": "markdown",
      "metadata": {
        "id": "nXnNPljMfEbh"
      },
      "source": [
        "<a href=\"https://colab.research.google.com/github/simplifiedcomputing/weed_detection/blob/main/weed_detection_inference.ipynb\" target=\"_parent\"><img src=\"https://colab.research.google.com/assets/colab-badge.svg\" alt=\"Open In Colab\"/></a>"
      ]
    },
    {
      "cell_type": "markdown",
      "metadata": {
        "id": "t1FHIfL8MoNy"
      },
      "source": [
        "# Weed Detection Inference\n",
        "Locate medical plants for human and animal health using object detection and classification."
      ]
    },
    {
      "cell_type": "markdown",
      "metadata": {
        "id": "orTU9-a7hf17"
      },
      "source": [
        "## Install\n",
        "\n",
        "- FastAI (training loop library)\n",
        "- IceVision (computer vision framework)\n",
        "- MMDetection and Yolo v5 (neural net models)"
      ]
    },
    {
      "cell_type": "code",
      "metadata": {
        "id": "le7JWbsFamo8"
      },
      "source": [
        "!pip install openmim -q\n",
        "!mim install mmcv-full\n",
        "!mim install mmdet\n",
        "\n",
        "!pip install git+git://github.com/airctic/icevision.git#egg=icevision[all] -U -q\n",
        "!pip install git+git://github.com/airctic/icedata.git -U -q\n",
        "!pip install yolov5-icevision -U -q "
      ],
      "execution_count": null,
      "outputs": []
    },
    {
      "cell_type": "code",
      "metadata": {
        "id": "2Xvyg3w4Gcc2"
      },
      "source": [
        "# Restart kernel after installation\n",
        "exit()"
      ],
      "execution_count": 2,
      "outputs": []
    },
    {
      "cell_type": "markdown",
      "metadata": {
        "id": "yt2hdPvWD7Ty"
      },
      "source": [
        "## Imports\n"
      ]
    },
    {
      "cell_type": "code",
      "metadata": {
        "id": "GkWwmiqTD7T0"
      },
      "source": [
        "from icevision.all import *\n",
        "from icevision.models.checkpoint import *"
      ],
      "execution_count": 3,
      "outputs": []
    },
    {
      "cell_type": "markdown",
      "metadata": {
        "id": "_2qHHFNlK5u7"
      },
      "source": [
        "#Loading model\n",
        "Because we have saved our model weights with the model metadata, we only need to call model_from_checkpoint(checkpoint_path): No other arguments (model_name, backbone_name, classes, img_size) are needed. All the information is already embedded in the checkpoint file."
      ]
    },
    {
      "cell_type": "code",
      "metadata": {
        "colab": {
          "base_uri": "https://localhost:8080/",
          "height": 106,
          "referenced_widgets": [
            "7868dc8f048940bf94ce080e2c504787",
            "70173274d9d24a178610d73d87cc9e01",
            "f6cb1eb16d1848ccabd2fd155167614f",
            "a7c6c0ca12124386ba17ecf69996fafd",
            "cbab1e052ebf47338b564614d5db0826",
            "c727f862e32b45d8bb1b88d78226f764",
            "7317666724804d9aa4e811984656befb",
            "fb9c2624684c4c138fbe41edd51cc237",
            "694ca1f02a03419da2760d03658ae75a",
            "e8925320aa7041ea9eaea41656eca19d",
            "ace9166e43694b8399b5ee970cb4ee3e"
          ]
        },
        "id": "GsthQpq0Kl0X",
        "outputId": "ee9f7ee3-dc92-42ba-b5b4-d7a5ef0adad0"
      },
      "source": [
        "checkpoint_path = 'https://simplified-computing.de/weed_detection_split_checkpoint.pth'\n",
        "checkpoint_and_model = model_from_checkpoint(checkpoint_path)"
      ],
      "execution_count": 4,
      "outputs": [
        {
          "output_type": "stream",
          "name": "stdout",
          "text": [
            "Use load_from_http loader\n"
          ]
        },
        {
          "output_type": "stream",
          "name": "stderr",
          "text": [
            "Downloading: \"https://simplified-computing.de/weed_detection_split_checkpoint.pth\" to /root/.cache/torch/hub/checkpoints/weed_detection_split_checkpoint.pth\n"
          ]
        },
        {
          "output_type": "display_data",
          "data": {
            "application/vnd.jupyter.widget-view+json": {
              "model_id": "7868dc8f048940bf94ce080e2c504787",
              "version_minor": 0,
              "version_major": 2
            },
            "text/plain": [
              "  0%|          | 0.00/27.0M [00:00<?, ?B/s]"
            ]
          },
          "metadata": {}
        }
      ]
    },
    {
      "cell_type": "code",
      "metadata": {
        "colab": {
          "base_uri": "https://localhost:8080/"
        },
        "id": "vtUB5M5hK6ay",
        "outputId": "8268ced7-f666-4d96-f55d-a0f7be950b08"
      },
      "source": [
        "# Just logging the info\n",
        "model_type = checkpoint_and_model[\"model_type\"]\n",
        "backbone = checkpoint_and_model[\"backbone\"]\n",
        "class_map = checkpoint_and_model[\"class_map\"]\n",
        "img_size = checkpoint_and_model[\"img_size\"]\n",
        "model_type, backbone, class_map, img_size"
      ],
      "execution_count": 5,
      "outputs": [
        {
          "output_type": "execute_result",
          "data": {
            "text/plain": [
              "(<module 'icevision.models.ultralytics.yolov5' from '/usr/local/lib/python3.7/dist-packages/icevision/models/ultralytics/yolov5/__init__.py'>,\n",
              " <icevision.models.ultralytics.yolov5.utils.YoloV5BackboneConfig at 0x7fb30c7ea450>,\n",
              " <ClassMap: {'background': 0, 'herbzeitlose': 1}>,\n",
              " 1920)"
            ]
          },
          "metadata": {},
          "execution_count": 5
        }
      ]
    },
    {
      "cell_type": "code",
      "metadata": {
        "id": "P0yBKFBT3GIq"
      },
      "source": [
        "model = checkpoint_and_model[\"model\"]"
      ],
      "execution_count": 6,
      "outputs": []
    },
    {
      "cell_type": "markdown",
      "metadata": {
        "id": "ymJhzr0MP484"
      },
      "source": [
        "##Transforms"
      ]
    },
    {
      "cell_type": "code",
      "metadata": {
        "id": "Jv1QM7VMLUtl"
      },
      "source": [
        "img_size = checkpoint_and_model[\"img_size\"]\n",
        "valid_tfms = tfms.A.Adapter([*tfms.A.resize_and_pad(img_size), tfms.A.Normalize()])"
      ],
      "execution_count": 7,
      "outputs": []
    },
    {
      "cell_type": "markdown",
      "metadata": {
        "id": "QPfrmtSTLRU4"
      },
      "source": [
        "#Data"
      ]
    },
    {
      "cell_type": "markdown",
      "metadata": {
        "id": "zTp_VE9WNnZB"
      },
      "source": [
        "###Load image"
      ]
    },
    {
      "cell_type": "code",
      "metadata": {
        "id": "78PtMQmewPPz"
      },
      "source": [
        "# cleaning if neccessary\n",
        "%rm -r image_dir/\n",
        "%rm -r split_image_dir/"
      ],
      "execution_count": null,
      "outputs": []
    },
    {
      "cell_type": "code",
      "metadata": {
        "id": "3xChHSe3Fv7T"
      },
      "source": [
        "import requests\n",
        "url = 'https://simplified-computing.de/weed_detection_DJI_0252.JPG'\n",
        "r = requests.get(url, allow_redirects=True)\n",
        "os.mkdir('image_dir')\n",
        "open('image_dir/image.jpg', 'wb').write(r.content)"
      ],
      "execution_count": null,
      "outputs": []
    },
    {
      "cell_type": "markdown",
      "metadata": {
        "id": "0IRCsxfMLA2W"
      },
      "source": [
        "#### Extract GPS coordinates"
      ]
    },
    {
      "cell_type": "code",
      "metadata": {
        "id": "BTZOWD_9cq0h",
        "colab": {
          "base_uri": "https://localhost:8080/"
        },
        "outputId": "ff500ca0-f460-4d0d-b295-5d528f9be49e"
      },
      "source": [
        "%pip install exif -q\n",
        "from exif import Image\n",
        "\n",
        "# load image\n",
        "img_file = 'image_dir/image.jpg'\n",
        "\n",
        "# convert to decimal coordinates\n",
        "def decimal_coords(coords, ref):\n",
        " decimal_degrees = coords[0] + coords[1] / 60 + coords[2] / 3600\n",
        " if ref == \"S\" or ref == \"W\":\n",
        "     decimal_degrees = -decimal_degrees\n",
        " return decimal_degrees\n",
        "\n",
        "lon = decimal_coords(Image(img_file).gps_longitude, Image(img_file).gps_longitude_ref)\n",
        "lat = decimal_coords(Image(img_file).gps_latitude, Image(img_file).gps_latitude_ref)\n",
        "lon, lat\n",
        "\n",
        "# image dimensions\n",
        "#Image(img_file).pixel_x_dimension, Image(img_file).pixel_y_dimension"
      ],
      "execution_count": 10,
      "outputs": [
        {
          "output_type": "stream",
          "name": "stdout",
          "text": [
            "\u001b[?25l\r\u001b[K     |█████                           | 10 kB 28.8 MB/s eta 0:00:01\r\u001b[K     |██████████                      | 20 kB 28.9 MB/s eta 0:00:01\r\u001b[K     |███████████████▏                | 30 kB 32.7 MB/s eta 0:00:01\r\u001b[K     |████████████████████▏           | 40 kB 17.2 MB/s eta 0:00:01\r\u001b[K     |█████████████████████████▏      | 51 kB 20.0 MB/s eta 0:00:01\r\u001b[K     |██████████████████████████████▎ | 61 kB 6.7 MB/s eta 0:00:01\r\u001b[K     |████████████████████████████████| 64 kB 2.4 MB/s \n",
            "\u001b[?25h"
          ]
        },
        {
          "output_type": "execute_result",
          "data": {
            "text/plain": [
              "(10.851753781876983, 49.858426539075396)"
            ]
          },
          "metadata": {},
          "execution_count": 10
        }
      ]
    },
    {
      "cell_type": "markdown",
      "metadata": {
        "id": "U1CEvFBhL3KC"
      },
      "source": [
        "#### Split images in smaller pieces"
      ]
    },
    {
      "cell_type": "code",
      "metadata": {
        "id": "eZHrC7nMQRXm"
      },
      "source": [
        "import imageio\n",
        "path = 'image_dir'\n",
        "\n",
        "def make_splits(path):\n",
        "    temp = os.listdir(path)\n",
        "    img_names = []\n",
        "    for img in temp:\n",
        "        img_names.append(path + '/' + img)\n",
        "\n",
        "    temp = img_names[0]\n",
        "    index = len(temp) - temp[::-1].find('/')\n",
        "    os.mkdir('split_image_dir')\n",
        "    save_path = 'split_image_dir'\n",
        "    #save_path = temp[:index]\n",
        "    \n",
        "    splits_w = [[.0, .5], [.5, 1.]]\n",
        "    splits_h = [[.0, .5], [.5, 1.]]    \n",
        "    \n",
        "    for num, image in enumerate(img_names):\n",
        "        im = imageio.imread(image)\n",
        "        h, w = im.shape[:2]\n",
        "        \n",
        "        name = image.split('/')[-1]\n",
        "        for s_h in splits_h:\n",
        "            for s_w in splits_w:\n",
        "                img = im[int(h*s_h[0]):int(h*s_h[1]), int(w*s_w[0]):int(w*s_w[1]), :]\n",
        "                new_w = int(s_w[0]*w)\n",
        "                new_h = int(s_h[0]*h)\n",
        "                \n",
        "                save_name = os.path.join(save_path, f'{num}_{new_h}_{new_w}_split_{name}')\n",
        "                imageio.imwrite(save_name, img)\n",
        "\n",
        "make_splits(path)"
      ],
      "execution_count": 11,
      "outputs": []
    },
    {
      "cell_type": "code",
      "metadata": {
        "colab": {
          "base_uri": "https://localhost:8080/"
        },
        "id": "h81D4ZVTo_vE",
        "outputId": "eefeff0e-2f8a-4f64-8148-d86c98f933db"
      },
      "source": [
        "# list of split files\n",
        "os.listdir('split_image_dir')"
      ],
      "execution_count": 12,
      "outputs": [
        {
          "output_type": "execute_result",
          "data": {
            "text/plain": [
              "['0_1500_0_split_image.jpg',\n",
              " '0_0_0_split_image.jpg',\n",
              " '0_1500_2000_split_image.jpg',\n",
              " '0_0_2000_split_image.jpg']"
            ]
          },
          "metadata": {},
          "execution_count": 12
        }
      ]
    },
    {
      "cell_type": "code",
      "metadata": {
        "id": "jDrCZ3i0zwj0"
      },
      "source": [
        "# show sample image\n",
        "img = PIL.Image.open('split_image_dir/0_0_0_split_image.jpg')\n",
        "img"
      ],
      "execution_count": null,
      "outputs": []
    },
    {
      "cell_type": "markdown",
      "metadata": {
        "id": "_9qwkL9iZ0HR"
      },
      "source": [
        "# Create dataset"
      ]
    },
    {
      "cell_type": "code",
      "metadata": {
        "id": "6G97hQfF4vwQ"
      },
      "source": [
        "import glob\n",
        "img_files = glob.glob('split_image_dir/*.jpg')\n",
        "imgs_array = [PIL.Image.open(Path(name)) for name in img_files]\n",
        "infer_ds = Dataset.from_images(imgs_array, valid_tfms, class_map=class_map)"
      ],
      "execution_count": 14,
      "outputs": []
    },
    {
      "cell_type": "markdown",
      "metadata": {
        "id": "ep-ieOuIMZfF"
      },
      "source": [
        "#Predict - All at once\n",
        "\n",
        "Simply call predict:"
      ]
    },
    {
      "cell_type": "code",
      "metadata": {
        "id": "bRcGdPR2Mavk"
      },
      "source": [
        "preds = model_type.predict(model, infer_ds, keep_images=True, detection_threshold=0.01)"
      ],
      "execution_count": 15,
      "outputs": []
    },
    {
      "cell_type": "markdown",
      "metadata": {
        "id": "Qp1WmbYsMdNP"
      },
      "source": [
        "#Predict - In batches\n",
        "If the memory is not enough to predict everything at once, break it down into smaller batches with infer_dataloader:"
      ]
    },
    {
      "cell_type": "code",
      "metadata": {
        "colab": {
          "base_uri": "https://localhost:8080/",
          "height": 49,
          "referenced_widgets": [
            "b7f76dfd8c394cc8a91ac3c6f37fb130",
            "4fbff34a2d524b888820e244a66c6318",
            "78c7fe7567b44ab99a90362ba922b621",
            "4d006578447e4ebfb031fbc0685be016",
            "1a0e3f2ed56b418da1d184c517279101",
            "1b03b0974fc34528945d20f79ba7bfe9",
            "ee4dfdf3c75a4967ad8044c0d066af08",
            "334407efbb1c4e46a068d0256effbef9",
            "0be9852ad28a4fd6890fd9b32718f0cc",
            "9ce88793dd35406787861c43a4b87215",
            "3162b05efe7b483da9dea4672aca1ed3"
          ]
        },
        "id": "BeWchX71MmUq",
        "outputId": "602069d6-9689-40b4-ec3c-131ccb8b226c"
      },
      "source": [
        "infer_dl = model_type.infer_dl(infer_ds, batch_size=1, shuffle=False)\n",
        "preds = model_type.predict_from_dl(model=model, infer_dl=infer_dl, keep_images=True, detection_threshold=0.01)"
      ],
      "execution_count": null,
      "outputs": [
        {
          "output_type": "display_data",
          "data": {
            "application/vnd.jupyter.widget-view+json": {
              "model_id": "b7f76dfd8c394cc8a91ac3c6f37fb130",
              "version_minor": 0,
              "version_major": 2
            },
            "text/plain": [
              "  0%|          | 0/4 [00:00<?, ?it/s]"
            ]
          },
          "metadata": {}
        }
      ]
    },
    {
      "cell_type": "markdown",
      "metadata": {
        "id": "-zzDgTV_Mq54"
      },
      "source": [
        "#Visualize\n",
        "\n",
        "Let´s take a look at the bboxes"
      ]
    },
    {
      "cell_type": "code",
      "metadata": {
        "colab": {
          "base_uri": "https://localhost:8080/"
        },
        "id": "9nWj49EiufTa",
        "outputId": "e9aa7670-5aa2-4285-b350-208b29384793"
      },
      "source": [
        "preds[0].pred.detection.bboxes"
      ],
      "execution_count": 16,
      "outputs": [
        {
          "output_type": "execute_result",
          "data": {
            "text/plain": [
              "[<BBox (xmin:1489.20849609375, ymin:752.24853515625, xmax:1513.52099609375, ymax:779.3721923828125)>,\n",
              " <BBox (xmin:1297.5462646484375, ymin:529.5830078125, xmax:1315.5692138671875, ymax:548.708984375)>,\n",
              " <BBox (xmin:1298.7578125, ymin:523.59375, xmax:1325.060302734375, ymax:547.3790283203125)>]"
            ]
          },
          "metadata": {},
          "execution_count": 16
        }
      ]
    },
    {
      "cell_type": "markdown",
      "metadata": {
        "id": "g4FZBF-W0RbM"
      },
      "source": [
        "For visualizing the predictions we can use show_preds:"
      ]
    },
    {
      "cell_type": "code",
      "metadata": {
        "id": "0JiCMI97MxMD"
      },
      "source": [
        "show_preds(preds=preds)\n",
        "#show_records(preds)"
      ],
      "execution_count": null,
      "outputs": []
    },
    {
      "cell_type": "markdown",
      "metadata": {
        "id": "V3cbB9S-BSZT"
      },
      "source": [
        "## Localization\n",
        "\n",
        "Calculate GPS coordinates for detected objects."
      ]
    },
    {
      "cell_type": "code",
      "metadata": {
        "id": "oH-EnsZEBTDb"
      },
      "source": [
        "# 1. grab bboxes\n",
        "# 2. take mean\n",
        "# 3. calculate distance to image center\n",
        "# 4. grab image coords\n",
        "# 5. show coords for bboxes"
      ],
      "execution_count": null,
      "outputs": []
    },
    {
      "cell_type": "markdown",
      "metadata": {
        "id": "mwmw3Vv0Ni9Z"
      },
      "source": [
        "## Map\n",
        "\n",
        "Create Map with detected plants"
      ]
    },
    {
      "cell_type": "code",
      "metadata": {
        "id": "6rLCK5kKNnl4"
      },
      "source": [
        "%pip install Simplekml\n",
        "import simplekml\n",
        "kml = simplekml.Kml()\n",
        "kml.document.name = \"Herbstzeitlose\"\n",
        "kml.newpoint(name=\"Herbstzeitlose\", coords=[(lon,lat)])  # lon, lat, optional height\n",
        "kml.save('herbstzeitlose.kml')\n",
        "\n",
        "from google.colab import files\n",
        "files.download('herbstzeitlose.kml') "
      ],
      "execution_count": null,
      "outputs": []
    }
  ]
}